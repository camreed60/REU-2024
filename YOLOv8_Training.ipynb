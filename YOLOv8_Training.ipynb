{
  "nbformat": 4,
  "nbformat_minor": 0,
  "metadata": {
    "colab": {
      "provenance": [],
      "gpuType": "L4",
      "mount_file_id": "1YHDxE1_HVVN5Wvlw8kAeHxWLMNhUU_RZ",
      "authorship_tag": "ABX9TyMD12EMRheoSPR3HgandmrZ",
      "include_colab_link": true
    },
    "kernelspec": {
      "name": "python3",
      "display_name": "Python 3"
    },
    "language_info": {
      "name": "python"
    },
    "accelerator": "GPU"
  },
  "cells": [
    {
      "cell_type": "markdown",
      "metadata": {
        "id": "view-in-github",
        "colab_type": "text"
      },
      "source": [
        "<a href=\"https://colab.research.google.com/github/mwilliams52000/reu-2024/blob/main/YOLOv8_Training.ipynb\" target=\"_parent\"><img src=\"https://colab.research.google.com/assets/colab-badge.svg\" alt=\"Open In Colab\"/></a>"
      ]
    },
    {
      "cell_type": "code",
      "execution_count": null,
      "metadata": {
        "id": "3Z2mTLdyUeaH"
      },
      "outputs": [],
      "source": [
        "!nvidia-smi"
      ]
    },
    {
      "cell_type": "code",
      "source": [
        "!pip install roboflow\n",
        "\n",
        "from roboflow import Roboflow\n",
        "rf = Roboflow(api_key=\"{YOUR_APIKEY}\")\n",
        "project = rf.workspace(\"{YOUR_WS}\").project(\"{YOUR_PROJECT}\")\n",
        "version = project.version()\n",
        "dataset = version.download(\"yolov8\")\n",
        "\n",
        "# this code block will be exported from roboflow\n",
        "# /content/{YOUR_WS}/data.yaml must be edited. the paths for train and valid must have the same format as for test\n",
        "# e.g. delete the first directory in the train and valid path\n",
        "# this is also the only block that needs changing besides training preferences"
      ],
      "metadata": {
        "id": "7jkXb7eeU8r7"
      },
      "execution_count": null,
      "outputs": []
    },
    {
      "cell_type": "markdown",
      "source": [
        "Install YOLOv8"
      ],
      "metadata": {
        "id": "e4CKOKvYUqYv"
      }
    },
    {
      "cell_type": "code",
      "source": [
        "!pip install ultralytics==8.0.196"
      ],
      "metadata": {
        "id": "JUCSWLl9UmPH"
      },
      "execution_count": null,
      "outputs": []
    },
    {
      "cell_type": "code",
      "source": [
        "import os\n",
        "HOME = os.getcwd()\n",
        "print(HOME)"
      ],
      "metadata": {
        "id": "d_cNg6fqaTRD"
      },
      "execution_count": null,
      "outputs": []
    },
    {
      "cell_type": "code",
      "source": [
        "from ultralytics import YOLO\n",
        "from IPython.display import display, Image\n",
        "from IPython import display\n",
        "display.clear_output()\n",
        "!yolo mode=check"
      ],
      "metadata": {
        "id": "mwxq1b0tUo-e"
      },
      "execution_count": null,
      "outputs": []
    },
    {
      "cell_type": "markdown",
      "source": [
        "Train YOLOv8 model on custom dataset"
      ],
      "metadata": {
        "id": "l9xmvBcDU60B"
      }
    },
    {
      "cell_type": "code",
      "source": [
        "%cd {HOME}\n",
        "!yolo segment mode=train data={dataset.location}/data.yaml model=yolov8m-seg.pt epochs=25 imgsz=640"
      ],
      "metadata": {
        "id": "T4eJvWlBVFUP"
      },
      "execution_count": null,
      "outputs": []
    }
  ]
}